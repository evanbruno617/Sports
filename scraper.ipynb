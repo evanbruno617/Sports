{
 "cells": [
  {
   "cell_type": "code",
   "execution_count": 70,
   "id": "d61a8bcf",
   "metadata": {},
   "outputs": [],
   "source": [
    "import pandas as pd\n",
    "import numpy as np\n",
    "import requests\n",
    "from bs4 import BeautifulSoup\n",
    "import os"
   ]
  },
  {
   "cell_type": "code",
   "execution_count": 1,
   "id": "1960d793",
   "metadata": {},
   "outputs": [],
   "source": [
    "url = f\"https://baseballsavant.mlb.com/savant-player/{player_id}?stats=statcast-r-running-mlb\"\n",
    "\n",
    "# Send GET request to fetch the page content\n",
    "response = requests.get(url)\n",
    "if response.status_code != 200:\n",
    "    raise Exception(f\"Failed to fetch page: {response.status_code}\")\n",
    "\n",
    "# Parse the page content using BeautifulSoup\n",
    "soup = BeautifulSoup(response.text, 'html.parser')\n",
    "\n",
    "rows = soup.find(id='stats-section').find_all(class_='table-savant')[-2].find_all('tr')\n",
    "\n",
    "data = {'Year': [], 'Sprint': []}\n",
    "\n",
    "for i in rows[1:]:\n",
    "    \n",
    "    data['Year'].append(i.find_all('td')[0].get_text())\n",
    "    \n",
    "    data['Sprint'].append(i.find_all('td')[2].get_text())"
   ]
  },
  {
   "cell_type": "code",
   "execution_count": 71,
   "id": "dbf61e62",
   "metadata": {},
   "outputs": [],
   "source": [
    "# Replace 'your_directory_path' with the path to your folder\n",
    "folder_path = 'Runner_final'\n",
    "\n",
    "# List all CSV files in the folder\n",
    "csv_files = [file for file in os.listdir(folder_path) if file.endswith('.csv')]\n"
   ]
  },
  {
   "cell_type": "code",
   "execution_count": null,
   "id": "f2d5f839",
   "metadata": {},
   "outputs": [
    {
     "name": "stderr",
     "output_type": "stream",
     "text": [
      "/var/folders/g3/164q6cz52jv0sjllnsg7jdsm0000gn/T/ipykernel_5996/1631842722.py:39: FutureWarning: Passing 'suffixes' which cause duplicate columns {'Current_Year_x', 'Sprint_x'} in the result is deprecated and will raise a MergeError in a future version.\n",
      "  final_df = pd.merge(data_df, player_data, on='Year')\n",
      "/var/folders/g3/164q6cz52jv0sjllnsg7jdsm0000gn/T/ipykernel_5996/1631842722.py:39: FutureWarning: Passing 'suffixes' which cause duplicate columns {'Current_Year_x', 'Sprint_x'} in the result is deprecated and will raise a MergeError in a future version.\n",
      "  final_df = pd.merge(data_df, player_data, on='Year')\n",
      "/var/folders/g3/164q6cz52jv0sjllnsg7jdsm0000gn/T/ipykernel_5996/1631842722.py:39: FutureWarning: Passing 'suffixes' which cause duplicate columns {'Current_Year_x', 'Sprint_x'} in the result is deprecated and will raise a MergeError in a future version.\n",
      "  final_df = pd.merge(data_df, player_data, on='Year')\n",
      "/var/folders/g3/164q6cz52jv0sjllnsg7jdsm0000gn/T/ipykernel_5996/1631842722.py:39: FutureWarning: Passing 'suffixes' which cause duplicate columns {'Current_Year_x', 'Sprint_x'} in the result is deprecated and will raise a MergeError in a future version.\n",
      "  final_df = pd.merge(data_df, player_data, on='Year')\n",
      "/var/folders/g3/164q6cz52jv0sjllnsg7jdsm0000gn/T/ipykernel_5996/1631842722.py:39: FutureWarning: Passing 'suffixes' which cause duplicate columns {'Current_Year_x', 'Sprint_x'} in the result is deprecated and will raise a MergeError in a future version.\n",
      "  final_df = pd.merge(data_df, player_data, on='Year')\n",
      "/var/folders/g3/164q6cz52jv0sjllnsg7jdsm0000gn/T/ipykernel_5996/1631842722.py:39: FutureWarning: Passing 'suffixes' which cause duplicate columns {'Current_Year_x', 'Sprint_x'} in the result is deprecated and will raise a MergeError in a future version.\n",
      "  final_df = pd.merge(data_df, player_data, on='Year')\n",
      "/var/folders/g3/164q6cz52jv0sjllnsg7jdsm0000gn/T/ipykernel_5996/1631842722.py:39: FutureWarning: Passing 'suffixes' which cause duplicate columns {'Current_Year_x', 'Sprint_x'} in the result is deprecated and will raise a MergeError in a future version.\n",
      "  final_df = pd.merge(data_df, player_data, on='Year')\n",
      "/var/folders/g3/164q6cz52jv0sjllnsg7jdsm0000gn/T/ipykernel_5996/1631842722.py:39: FutureWarning: Passing 'suffixes' which cause duplicate columns {'Current_Year_x', 'Sprint_x'} in the result is deprecated and will raise a MergeError in a future version.\n",
      "  final_df = pd.merge(data_df, player_data, on='Year')\n",
      "/var/folders/g3/164q6cz52jv0sjllnsg7jdsm0000gn/T/ipykernel_5996/1631842722.py:39: FutureWarning: Passing 'suffixes' which cause duplicate columns {'Current_Year_x', 'Sprint_x'} in the result is deprecated and will raise a MergeError in a future version.\n",
      "  final_df = pd.merge(data_df, player_data, on='Year')\n",
      "/var/folders/g3/164q6cz52jv0sjllnsg7jdsm0000gn/T/ipykernel_5996/1631842722.py:39: FutureWarning: Passing 'suffixes' which cause duplicate columns {'Current_Year_x', 'Sprint_x'} in the result is deprecated and will raise a MergeError in a future version.\n",
      "  final_df = pd.merge(data_df, player_data, on='Year')\n",
      "/var/folders/g3/164q6cz52jv0sjllnsg7jdsm0000gn/T/ipykernel_5996/1631842722.py:39: FutureWarning: Passing 'suffixes' which cause duplicate columns {'Current_Year_x', 'Sprint_x'} in the result is deprecated and will raise a MergeError in a future version.\n",
      "  final_df = pd.merge(data_df, player_data, on='Year')\n",
      "/var/folders/g3/164q6cz52jv0sjllnsg7jdsm0000gn/T/ipykernel_5996/1631842722.py:39: FutureWarning: Passing 'suffixes' which cause duplicate columns {'Current_Year_x', 'Sprint_x'} in the result is deprecated and will raise a MergeError in a future version.\n",
      "  final_df = pd.merge(data_df, player_data, on='Year')\n",
      "/var/folders/g3/164q6cz52jv0sjllnsg7jdsm0000gn/T/ipykernel_5996/1631842722.py:39: FutureWarning: Passing 'suffixes' which cause duplicate columns {'Current_Year_x', 'Sprint_x'} in the result is deprecated and will raise a MergeError in a future version.\n",
      "  final_df = pd.merge(data_df, player_data, on='Year')\n",
      "/var/folders/g3/164q6cz52jv0sjllnsg7jdsm0000gn/T/ipykernel_5996/1631842722.py:39: FutureWarning: Passing 'suffixes' which cause duplicate columns {'Current_Year_x', 'Sprint_x'} in the result is deprecated and will raise a MergeError in a future version.\n",
      "  final_df = pd.merge(data_df, player_data, on='Year')\n",
      "/var/folders/g3/164q6cz52jv0sjllnsg7jdsm0000gn/T/ipykernel_5996/1631842722.py:39: FutureWarning: Passing 'suffixes' which cause duplicate columns {'Current_Year_x', 'Sprint_x'} in the result is deprecated and will raise a MergeError in a future version.\n",
      "  final_df = pd.merge(data_df, player_data, on='Year')\n",
      "/var/folders/g3/164q6cz52jv0sjllnsg7jdsm0000gn/T/ipykernel_5996/1631842722.py:39: FutureWarning: Passing 'suffixes' which cause duplicate columns {'Current_Year_x', 'Sprint_x'} in the result is deprecated and will raise a MergeError in a future version.\n",
      "  final_df = pd.merge(data_df, player_data, on='Year')\n",
      "/var/folders/g3/164q6cz52jv0sjllnsg7jdsm0000gn/T/ipykernel_5996/1631842722.py:39: FutureWarning: Passing 'suffixes' which cause duplicate columns {'Current_Year_x', 'Sprint_x'} in the result is deprecated and will raise a MergeError in a future version.\n",
      "  final_df = pd.merge(data_df, player_data, on='Year')\n",
      "/var/folders/g3/164q6cz52jv0sjllnsg7jdsm0000gn/T/ipykernel_5996/1631842722.py:39: FutureWarning: Passing 'suffixes' which cause duplicate columns {'Current_Year_x', 'Sprint_x'} in the result is deprecated and will raise a MergeError in a future version.\n",
      "  final_df = pd.merge(data_df, player_data, on='Year')\n",
      "/var/folders/g3/164q6cz52jv0sjllnsg7jdsm0000gn/T/ipykernel_5996/1631842722.py:39: FutureWarning: Passing 'suffixes' which cause duplicate columns {'Current_Year_x', 'Sprint_x'} in the result is deprecated and will raise a MergeError in a future version.\n",
      "  final_df = pd.merge(data_df, player_data, on='Year')\n",
      "/var/folders/g3/164q6cz52jv0sjllnsg7jdsm0000gn/T/ipykernel_5996/1631842722.py:39: FutureWarning: Passing 'suffixes' which cause duplicate columns {'Current_Year_x', 'Sprint_x'} in the result is deprecated and will raise a MergeError in a future version.\n",
      "  final_df = pd.merge(data_df, player_data, on='Year')\n",
      "/var/folders/g3/164q6cz52jv0sjllnsg7jdsm0000gn/T/ipykernel_5996/1631842722.py:39: FutureWarning: Passing 'suffixes' which cause duplicate columns {'Current_Year_x', 'Sprint_x'} in the result is deprecated and will raise a MergeError in a future version.\n",
      "  final_df = pd.merge(data_df, player_data, on='Year')\n",
      "/var/folders/g3/164q6cz52jv0sjllnsg7jdsm0000gn/T/ipykernel_5996/1631842722.py:39: FutureWarning: Passing 'suffixes' which cause duplicate columns {'Current_Year_x', 'Sprint_x'} in the result is deprecated and will raise a MergeError in a future version.\n",
      "  final_df = pd.merge(data_df, player_data, on='Year')\n",
      "/var/folders/g3/164q6cz52jv0sjllnsg7jdsm0000gn/T/ipykernel_5996/1631842722.py:39: FutureWarning: Passing 'suffixes' which cause duplicate columns {'Current_Year_x', 'Sprint_x'} in the result is deprecated and will raise a MergeError in a future version.\n",
      "  final_df = pd.merge(data_df, player_data, on='Year')\n",
      "/var/folders/g3/164q6cz52jv0sjllnsg7jdsm0000gn/T/ipykernel_5996/1631842722.py:39: FutureWarning: Passing 'suffixes' which cause duplicate columns {'Current_Year_x', 'Sprint_x'} in the result is deprecated and will raise a MergeError in a future version.\n",
      "  final_df = pd.merge(data_df, player_data, on='Year')\n",
      "/var/folders/g3/164q6cz52jv0sjllnsg7jdsm0000gn/T/ipykernel_5996/1631842722.py:39: FutureWarning: Passing 'suffixes' which cause duplicate columns {'Current_Year_x', 'Sprint_x'} in the result is deprecated and will raise a MergeError in a future version.\n",
      "  final_df = pd.merge(data_df, player_data, on='Year')\n",
      "/var/folders/g3/164q6cz52jv0sjllnsg7jdsm0000gn/T/ipykernel_5996/1631842722.py:39: FutureWarning: Passing 'suffixes' which cause duplicate columns {'Current_Year_x', 'Sprint_x'} in the result is deprecated and will raise a MergeError in a future version.\n",
      "  final_df = pd.merge(data_df, player_data, on='Year')\n",
      "/var/folders/g3/164q6cz52jv0sjllnsg7jdsm0000gn/T/ipykernel_5996/1631842722.py:39: FutureWarning: Passing 'suffixes' which cause duplicate columns {'Current_Year_x', 'Sprint_x'} in the result is deprecated and will raise a MergeError in a future version.\n",
      "  final_df = pd.merge(data_df, player_data, on='Year')\n"
     ]
    },
    {
     "name": "stderr",
     "output_type": "stream",
     "text": [
      "/var/folders/g3/164q6cz52jv0sjllnsg7jdsm0000gn/T/ipykernel_5996/1631842722.py:39: FutureWarning: Passing 'suffixes' which cause duplicate columns {'Current_Year_x', 'Sprint_x'} in the result is deprecated and will raise a MergeError in a future version.\n",
      "  final_df = pd.merge(data_df, player_data, on='Year')\n",
      "/var/folders/g3/164q6cz52jv0sjllnsg7jdsm0000gn/T/ipykernel_5996/1631842722.py:39: FutureWarning: Passing 'suffixes' which cause duplicate columns {'Current_Year_x', 'Sprint_x'} in the result is deprecated and will raise a MergeError in a future version.\n",
      "  final_df = pd.merge(data_df, player_data, on='Year')\n",
      "/var/folders/g3/164q6cz52jv0sjllnsg7jdsm0000gn/T/ipykernel_5996/1631842722.py:39: FutureWarning: Passing 'suffixes' which cause duplicate columns {'Current_Year_x', 'Sprint_x'} in the result is deprecated and will raise a MergeError in a future version.\n",
      "  final_df = pd.merge(data_df, player_data, on='Year')\n",
      "/var/folders/g3/164q6cz52jv0sjllnsg7jdsm0000gn/T/ipykernel_5996/1631842722.py:39: FutureWarning: Passing 'suffixes' which cause duplicate columns {'Current_Year_x', 'Sprint_x'} in the result is deprecated and will raise a MergeError in a future version.\n",
      "  final_df = pd.merge(data_df, player_data, on='Year')\n",
      "/var/folders/g3/164q6cz52jv0sjllnsg7jdsm0000gn/T/ipykernel_5996/1631842722.py:39: FutureWarning: Passing 'suffixes' which cause duplicate columns {'Current_Year_x', 'Sprint_x'} in the result is deprecated and will raise a MergeError in a future version.\n",
      "  final_df = pd.merge(data_df, player_data, on='Year')\n",
      "/var/folders/g3/164q6cz52jv0sjllnsg7jdsm0000gn/T/ipykernel_5996/1631842722.py:39: FutureWarning: Passing 'suffixes' which cause duplicate columns {'Current_Year_x', 'Sprint_x'} in the result is deprecated and will raise a MergeError in a future version.\n",
      "  final_df = pd.merge(data_df, player_data, on='Year')\n",
      "/var/folders/g3/164q6cz52jv0sjllnsg7jdsm0000gn/T/ipykernel_5996/1631842722.py:39: FutureWarning: Passing 'suffixes' which cause duplicate columns {'Current_Year_x', 'Sprint_x'} in the result is deprecated and will raise a MergeError in a future version.\n",
      "  final_df = pd.merge(data_df, player_data, on='Year')\n",
      "/var/folders/g3/164q6cz52jv0sjllnsg7jdsm0000gn/T/ipykernel_5996/1631842722.py:39: FutureWarning: Passing 'suffixes' which cause duplicate columns {'Current_Year_x', 'Sprint_x'} in the result is deprecated and will raise a MergeError in a future version.\n",
      "  final_df = pd.merge(data_df, player_data, on='Year')\n"
     ]
    }
   ],
   "source": [
    "for player in csv_files:\n",
    "    data_df = pd.read_csv(f'{folder_path}/{player}')\n",
    "    \n",
    "    data_df['Year'] = data_df['Date'].apply(lambda x: int(x.split('-')[0]))\n",
    "    \n",
    "    if len(data_df) == 0:\n",
    "        continue\n",
    "    \n",
    "    player_id = data_df['runner_id'].tolist()[0]\n",
    "    \n",
    "    url = f\"https://baseballsavant.mlb.com/savant-player/{player_id}?stats=statcast-r-running-mlb\"\n",
    "\n",
    "    # Send GET request to fetch the page content\n",
    "\n",
    "    response = requests.get(url)\n",
    "    if response.status_code != 200:\n",
    "        time.sleep(5)\n",
    "        response = requests.get(url)\n",
    "    # Parse the page content using BeautifulSoup\n",
    "    soup = BeautifulSoup(response.text, 'html.parser')\n",
    "\n",
    "    rows = soup.find(id='stats-section').find_all(class_='table-savant')[-2].find_all('tr')\n",
    "\n",
    "    data = {'Current_Year': [], 'Sprint': []}\n",
    "\n",
    "    for i in rows[1:]:\n",
    "        \n",
    "        if len(i.find_all('td')) == 0:\n",
    "            break\n",
    "\n",
    "        data['Current_Year'].append(int(i.find_all('td')[0].get_text()))\n",
    "\n",
    "        data['Sprint'].append(float(i.find_all('td')[2].get_text()))\n",
    "        \n",
    "    player_data = pd.DataFrame(data)\n",
    "\n",
    "    player_data['Year'] = player_data['Current_Year'].shift(1)\n",
    "    \n",
    "    final_df = pd.merge(data_df, player_data, on='Year')\n",
    "    \n",
    "    final_df.to_csv(f'Runner_final/{player}')"
   ]
  },
  {
   "cell_type": "code",
   "execution_count": 65,
   "id": "3999aa16",
   "metadata": {},
   "outputs": [
    {
     "data": {
      "text/plain": [
       "<Response [200]>"
      ]
     },
     "execution_count": 65,
     "metadata": {},
     "output_type": "execute_result"
    }
   ],
   "source": [
    "requests.get(url)"
   ]
  },
  {
   "cell_type": "code",
   "execution_count": 66,
   "id": "6a341650",
   "metadata": {},
   "outputs": [
    {
     "data": {
      "text/plain": [
       "<Response [500]>"
      ]
     },
     "execution_count": 66,
     "metadata": {},
     "output_type": "execute_result"
    }
   ],
   "source": [
    "response"
   ]
  },
  {
   "cell_type": "code",
   "execution_count": null,
   "id": "b7df7757",
   "metadata": {},
   "outputs": [],
   "source": []
  },
  {
   "cell_type": "code",
   "execution_count": null,
   "id": "fbea7a8c",
   "metadata": {},
   "outputs": [],
   "source": [
    "# Replace 'your_directory_path' with the path to your folder\n",
    "folder_path = 'catchers'\n",
    "\n",
    "# List all CSV files in the folder\n",
    "csv_files = [file for file in os.listdir(folder_path) if file.endswith('.csv')]\n"
   ]
  },
  {
   "cell_type": "code",
   "execution_count": 48,
   "id": "ff829d0b",
   "metadata": {},
   "outputs": [
    {
     "name": "stderr",
     "output_type": "stream",
     "text": [
      "/var/folders/g3/164q6cz52jv0sjllnsg7jdsm0000gn/T/ipykernel_5996/975009851.py:40: FutureWarning: Passing 'suffixes' which cause duplicate columns {'Current_Year_x'} in the result is deprecated and will raise a MergeError in a future version.\n",
      "  final_df = pd.merge(data_df, player_data, on='Year')\n",
      "/var/folders/g3/164q6cz52jv0sjllnsg7jdsm0000gn/T/ipykernel_5996/975009851.py:40: FutureWarning: Passing 'suffixes' which cause duplicate columns {'Current_Year_x'} in the result is deprecated and will raise a MergeError in a future version.\n",
      "  final_df = pd.merge(data_df, player_data, on='Year')\n",
      "/var/folders/g3/164q6cz52jv0sjllnsg7jdsm0000gn/T/ipykernel_5996/975009851.py:40: FutureWarning: Passing 'suffixes' which cause duplicate columns {'Current_Year_x'} in the result is deprecated and will raise a MergeError in a future version.\n",
      "  final_df = pd.merge(data_df, player_data, on='Year')\n",
      "/var/folders/g3/164q6cz52jv0sjllnsg7jdsm0000gn/T/ipykernel_5996/975009851.py:40: FutureWarning: Passing 'suffixes' which cause duplicate columns {'Current_Year_x'} in the result is deprecated and will raise a MergeError in a future version.\n",
      "  final_df = pd.merge(data_df, player_data, on='Year')\n",
      "/var/folders/g3/164q6cz52jv0sjllnsg7jdsm0000gn/T/ipykernel_5996/975009851.py:40: FutureWarning: Passing 'suffixes' which cause duplicate columns {'Current_Year_x'} in the result is deprecated and will raise a MergeError in a future version.\n",
      "  final_df = pd.merge(data_df, player_data, on='Year')\n",
      "/var/folders/g3/164q6cz52jv0sjllnsg7jdsm0000gn/T/ipykernel_5996/975009851.py:40: FutureWarning: Passing 'suffixes' which cause duplicate columns {'Current_Year_x'} in the result is deprecated and will raise a MergeError in a future version.\n",
      "  final_df = pd.merge(data_df, player_data, on='Year')\n",
      "/var/folders/g3/164q6cz52jv0sjllnsg7jdsm0000gn/T/ipykernel_5996/975009851.py:40: FutureWarning: Passing 'suffixes' which cause duplicate columns {'Current_Year_x'} in the result is deprecated and will raise a MergeError in a future version.\n",
      "  final_df = pd.merge(data_df, player_data, on='Year')\n",
      "/var/folders/g3/164q6cz52jv0sjllnsg7jdsm0000gn/T/ipykernel_5996/975009851.py:40: FutureWarning: Passing 'suffixes' which cause duplicate columns {'Current_Year_x'} in the result is deprecated and will raise a MergeError in a future version.\n",
      "  final_df = pd.merge(data_df, player_data, on='Year')\n",
      "/var/folders/g3/164q6cz52jv0sjllnsg7jdsm0000gn/T/ipykernel_5996/975009851.py:40: FutureWarning: Passing 'suffixes' which cause duplicate columns {'Current_Year_x'} in the result is deprecated and will raise a MergeError in a future version.\n",
      "  final_df = pd.merge(data_df, player_data, on='Year')\n",
      "/var/folders/g3/164q6cz52jv0sjllnsg7jdsm0000gn/T/ipykernel_5996/975009851.py:40: FutureWarning: Passing 'suffixes' which cause duplicate columns {'Current_Year_x'} in the result is deprecated and will raise a MergeError in a future version.\n",
      "  final_df = pd.merge(data_df, player_data, on='Year')\n",
      "/var/folders/g3/164q6cz52jv0sjllnsg7jdsm0000gn/T/ipykernel_5996/975009851.py:40: FutureWarning: Passing 'suffixes' which cause duplicate columns {'Current_Year_x'} in the result is deprecated and will raise a MergeError in a future version.\n",
      "  final_df = pd.merge(data_df, player_data, on='Year')\n",
      "/var/folders/g3/164q6cz52jv0sjllnsg7jdsm0000gn/T/ipykernel_5996/975009851.py:40: FutureWarning: Passing 'suffixes' which cause duplicate columns {'Current_Year_x'} in the result is deprecated and will raise a MergeError in a future version.\n",
      "  final_df = pd.merge(data_df, player_data, on='Year')\n",
      "/var/folders/g3/164q6cz52jv0sjllnsg7jdsm0000gn/T/ipykernel_5996/975009851.py:40: FutureWarning: Passing 'suffixes' which cause duplicate columns {'Current_Year_x'} in the result is deprecated and will raise a MergeError in a future version.\n",
      "  final_df = pd.merge(data_df, player_data, on='Year')\n"
     ]
    }
   ],
   "source": [
    "for player in csv_files:\n",
    "    data_df = pd.read_csv(f'{folder_path}/{player}')\n",
    "    \n",
    "    if len(data_df) == 0:\n",
    "        continue\n",
    "    \n",
    "    data_df['Year'] = data_df['Date'].apply(lambda x: int(x.split('-')[0]))\n",
    "    \n",
    "    player_id = data_df['credit_id'].tolist()[0]\n",
    "    \n",
    "    url = f\"https://baseballsavant.mlb.com/savant-player/{player_id}?stats=statcast-r-catching-mlb\"\n",
    "    \n",
    "    response = requests.get(url)\n",
    "\n",
    "    # Parse the page content using BeautifulSoup\n",
    "    soup = BeautifulSoup(response.text, 'html.parser')\n",
    "    \n",
    "    if len(soup.find_all(id='statcastCatching')) == 0:\n",
    "        continue\n",
    "\n",
    "    rows = soup.find(id='statcastCatching').find_all(class_='table-savant')[1].find('tbody').find_all('tr')\n",
    "\n",
    "    data = {'Current_Year': [], 'Arm_Strength': [], 'Exchange': []}\n",
    "\n",
    "    for i in rows[1:]:\n",
    "        \n",
    "        if len(i.find_all('td')) == 0:\n",
    "            break\n",
    "\n",
    "        data['Current_Year'].append(int(i.find_all('td')[0].get_text()))\n",
    "\n",
    "        data['Arm_Strength'].append(i.find_all('td')[2].get_text())\n",
    "\n",
    "        data['Exchange'].append(i.find_all('td')[3].get_text())\n",
    "        \n",
    "    player_data = pd.DataFrame(data)\n",
    "\n",
    "    player_data['Year'] = player_data['Current_Year'].shift(1)\n",
    "    \n",
    "    final_df = pd.merge(data_df, player_data, on='Year')\n",
    "    \n",
    "    final_df.to_csv(f'catchers/{player}')"
   ]
  },
  {
   "cell_type": "code",
   "execution_count": 43,
   "id": "796b091a",
   "metadata": {},
   "outputs": [],
   "source": [
    "soup.find(id='statcastCatching')"
   ]
  },
  {
   "cell_type": "code",
   "execution_count": 47,
   "id": "f0a17d60",
   "metadata": {},
   "outputs": [
    {
     "data": {
      "text/plain": [
       "0"
      ]
     },
     "execution_count": 47,
     "metadata": {},
     "output_type": "execute_result"
    }
   ],
   "source": [
    "len(soup.find_all(id='statcastCatching'))"
   ]
  },
  {
   "cell_type": "code",
   "execution_count": 47,
   "id": "97a69ebc",
   "metadata": {},
   "outputs": [],
   "source": [
    "player_name = pd.read_csv('catcher_data/A.J._Ellis.csv')['credit'].tolist()[0]"
   ]
  },
  {
   "cell_type": "code",
   "execution_count": 48,
   "id": "ad114008",
   "metadata": {},
   "outputs": [
    {
     "name": "stdout",
     "output_type": "stream",
     "text": [
      "Player ID for A.J. Ellis: 457705\n"
     ]
    }
   ],
   "source": [
    "import requests\n",
    "\n",
    "def get_player_id(player_name):\n",
    "    base_url = \"https://statsapi.mlb.com/api/v1/people/search\"\n",
    "    response = requests.get(base_url, params={\"name\": player_name})\n",
    "    \n",
    "    if response.status_code == 200:\n",
    "        data = response.json()\n",
    "        if \"people\" in data and data[\"people\"]:\n",
    "            return data[\"people\"][0][\"id\"]\n",
    "        else:\n",
    "            return f\"No player found with name: {player_name}\"\n",
    "    else:\n",
    "        return f\"Error: {response.status_code}\"\n",
    "\n",
    "player_id = get_player_id(player_name)\n",
    "print(f\"Player ID for {player_name}: {player_id}\")\n"
   ]
  },
  {
   "cell_type": "code",
   "execution_count": null,
   "id": "70bd766c",
   "metadata": {},
   "outputs": [],
   "source": []
  }
 ],
 "metadata": {
  "kernelspec": {
   "display_name": "PythonData",
   "language": "python",
   "name": "pythondata"
  },
  "language_info": {
   "codemirror_mode": {
    "name": "ipython",
    "version": 3
   },
   "file_extension": ".py",
   "mimetype": "text/x-python",
   "name": "python",
   "nbconvert_exporter": "python",
   "pygments_lexer": "ipython3",
   "version": "3.9.7"
  }
 },
 "nbformat": 4,
 "nbformat_minor": 5
}
